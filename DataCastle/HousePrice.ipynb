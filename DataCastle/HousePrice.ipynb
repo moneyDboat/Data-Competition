{
 "cells": [
  {
   "cell_type": "code",
   "execution_count": 34,
   "metadata": {
    "collapsed": false
   },
   "outputs": [
    {
     "name": "stdout",
     "output_type": "stream",
     "text": [
      "<class 'pandas.core.frame.DataFrame'>\n",
      "RangeIndex: 10000 entries, 0 to 9999\n",
      "Data columns (total 14 columns):\n",
      "date        10000 non-null int64\n",
      "price       10000 non-null int64\n",
      "bedroom     10000 non-null int64\n",
      "bathroom    10000 non-null float64\n",
      "living      10000 non-null int64\n",
      "parking     10000 non-null int64\n",
      "floors      10000 non-null float64\n",
      "score       10000 non-null int64\n",
      "square      10000 non-null int64\n",
      "under       10000 non-null int64\n",
      "build       10000 non-null int64\n",
      "repair      10000 non-null int64\n",
      "a           10000 non-null float64\n",
      "b           10000 non-null float64\n",
      "dtypes: float64(4), int64(10)\n",
      "memory usage: 1.1 MB\n",
      "None\n",
      "<class 'pandas.core.frame.DataFrame'>\n",
      "RangeIndex: 3000 entries, 0 to 2999\n",
      "Data columns (total 13 columns):\n",
      "date        3000 non-null int64\n",
      "bedroom     3000 non-null int64\n",
      "bathroom    3000 non-null float64\n",
      "living      3000 non-null int64\n",
      "parking     3000 non-null int64\n",
      "floors      3000 non-null float64\n",
      "score       3000 non-null int64\n",
      "square      3000 non-null int64\n",
      "under       3000 non-null int64\n",
      "build       3000 non-null int64\n",
      "repair      3000 non-null int64\n",
      "a           3000 non-null float64\n",
      "b           3000 non-null float64\n",
      "dtypes: float64(4), int64(9)\n",
      "memory usage: 304.8 KB\n",
      "None\n"
     ]
    },
    {
     "data": {
      "text/html": [
       "<div>\n",
       "<table border=\"1\" class=\"dataframe\">\n",
       "  <thead>\n",
       "    <tr style=\"text-align: right;\">\n",
       "      <th></th>\n",
       "      <th>date</th>\n",
       "      <th>price</th>\n",
       "      <th>bedroom</th>\n",
       "      <th>bathroom</th>\n",
       "      <th>living</th>\n",
       "      <th>parking</th>\n",
       "      <th>floors</th>\n",
       "      <th>score</th>\n",
       "      <th>square</th>\n",
       "      <th>under</th>\n",
       "      <th>build</th>\n",
       "      <th>repair</th>\n",
       "      <th>a</th>\n",
       "      <th>b</th>\n",
       "    </tr>\n",
       "  </thead>\n",
       "  <tbody>\n",
       "    <tr>\n",
       "      <th>0</th>\n",
       "      <td>20150302</td>\n",
       "      <td>545000</td>\n",
       "      <td>3</td>\n",
       "      <td>2.25</td>\n",
       "      <td>1670</td>\n",
       "      <td>6240</td>\n",
       "      <td>1.0</td>\n",
       "      <td>8</td>\n",
       "      <td>1240</td>\n",
       "      <td>430</td>\n",
       "      <td>1974</td>\n",
       "      <td>0</td>\n",
       "      <td>47.6413</td>\n",
       "      <td>-122.113</td>\n",
       "    </tr>\n",
       "    <tr>\n",
       "      <th>1</th>\n",
       "      <td>20150211</td>\n",
       "      <td>785000</td>\n",
       "      <td>4</td>\n",
       "      <td>2.50</td>\n",
       "      <td>3300</td>\n",
       "      <td>10514</td>\n",
       "      <td>2.0</td>\n",
       "      <td>10</td>\n",
       "      <td>3300</td>\n",
       "      <td>0</td>\n",
       "      <td>1984</td>\n",
       "      <td>0</td>\n",
       "      <td>47.6323</td>\n",
       "      <td>-122.036</td>\n",
       "    </tr>\n",
       "    <tr>\n",
       "      <th>2</th>\n",
       "      <td>20150107</td>\n",
       "      <td>765000</td>\n",
       "      <td>3</td>\n",
       "      <td>3.25</td>\n",
       "      <td>3190</td>\n",
       "      <td>5283</td>\n",
       "      <td>2.0</td>\n",
       "      <td>9</td>\n",
       "      <td>3190</td>\n",
       "      <td>0</td>\n",
       "      <td>2007</td>\n",
       "      <td>0</td>\n",
       "      <td>47.5534</td>\n",
       "      <td>-122.002</td>\n",
       "    </tr>\n",
       "    <tr>\n",
       "      <th>3</th>\n",
       "      <td>20141103</td>\n",
       "      <td>720000</td>\n",
       "      <td>5</td>\n",
       "      <td>2.50</td>\n",
       "      <td>2900</td>\n",
       "      <td>9525</td>\n",
       "      <td>2.0</td>\n",
       "      <td>9</td>\n",
       "      <td>2900</td>\n",
       "      <td>0</td>\n",
       "      <td>1989</td>\n",
       "      <td>0</td>\n",
       "      <td>47.5442</td>\n",
       "      <td>-122.138</td>\n",
       "    </tr>\n",
       "    <tr>\n",
       "      <th>4</th>\n",
       "      <td>20140603</td>\n",
       "      <td>449500</td>\n",
       "      <td>5</td>\n",
       "      <td>2.75</td>\n",
       "      <td>2040</td>\n",
       "      <td>7488</td>\n",
       "      <td>1.0</td>\n",
       "      <td>7</td>\n",
       "      <td>1200</td>\n",
       "      <td>840</td>\n",
       "      <td>1969</td>\n",
       "      <td>0</td>\n",
       "      <td>47.7289</td>\n",
       "      <td>-122.172</td>\n",
       "    </tr>\n",
       "  </tbody>\n",
       "</table>\n",
       "</div>"
      ],
      "text/plain": [
       "       date   price  bedroom  bathroom  living  parking  floors  score  \\\n",
       "0  20150302  545000        3      2.25    1670     6240     1.0      8   \n",
       "1  20150211  785000        4      2.50    3300    10514     2.0     10   \n",
       "2  20150107  765000        3      3.25    3190     5283     2.0      9   \n",
       "3  20141103  720000        5      2.50    2900     9525     2.0      9   \n",
       "4  20140603  449500        5      2.75    2040     7488     1.0      7   \n",
       "\n",
       "   square  under  build  repair        a        b  \n",
       "0    1240    430   1974       0  47.6413 -122.113  \n",
       "1    3300      0   1984       0  47.6323 -122.036  \n",
       "2    3190      0   2007       0  47.5534 -122.002  \n",
       "3    2900      0   1989       0  47.5442 -122.138  \n",
       "4    1200    840   1969       0  47.7289 -122.172  "
      ]
     },
     "execution_count": 34,
     "metadata": {},
     "output_type": "execute_result"
    }
   ],
   "source": [
    "import pandas as pd\n",
    "\n",
    "train = pd.read_csv('Datasets/HousePrice/kc_train.csv')\n",
    "test = pd.read_csv('Datasets/HousePrice/kc_test.csv')\n",
    "\n",
    "print(train.info())\n",
    "print(test.info())\n",
    "train.head()"
   ]
  },
  {
   "cell_type": "code",
   "execution_count": 35,
   "metadata": {
    "collapsed": false
   },
   "outputs": [],
   "source": [
    "import numpy as np\n",
    "# select_feature = ['date','bedroom','bathroom','living',\n",
    "#                   'parking','floors','score','square','under','build','repair','a','b']\n",
    "select_feature = ['bathroom','living',\n",
    "                  'score','square']\n",
    "\n",
    "X_train = train[select_feature]\n",
    "X_test = test[select_feature]\n",
    "y_train = train['price']"
   ]
  },
  {
   "cell_type": "code",
   "execution_count": 36,
   "metadata": {
    "collapsed": false
   },
   "outputs": [
    {
     "data": {
      "text/html": [
       "<div>\n",
       "<table border=\"1\" class=\"dataframe\">\n",
       "  <thead>\n",
       "    <tr style=\"text-align: right;\">\n",
       "      <th></th>\n",
       "      <th>bathroom</th>\n",
       "      <th>living</th>\n",
       "      <th>score</th>\n",
       "      <th>square</th>\n",
       "    </tr>\n",
       "  </thead>\n",
       "  <tbody>\n",
       "    <tr>\n",
       "      <th>0</th>\n",
       "      <td>2.25</td>\n",
       "      <td>1670</td>\n",
       "      <td>8</td>\n",
       "      <td>1240</td>\n",
       "    </tr>\n",
       "    <tr>\n",
       "      <th>1</th>\n",
       "      <td>2.50</td>\n",
       "      <td>3300</td>\n",
       "      <td>10</td>\n",
       "      <td>3300</td>\n",
       "    </tr>\n",
       "    <tr>\n",
       "      <th>2</th>\n",
       "      <td>3.25</td>\n",
       "      <td>3190</td>\n",
       "      <td>9</td>\n",
       "      <td>3190</td>\n",
       "    </tr>\n",
       "    <tr>\n",
       "      <th>3</th>\n",
       "      <td>2.50</td>\n",
       "      <td>2900</td>\n",
       "      <td>9</td>\n",
       "      <td>2900</td>\n",
       "    </tr>\n",
       "    <tr>\n",
       "      <th>4</th>\n",
       "      <td>2.75</td>\n",
       "      <td>2040</td>\n",
       "      <td>7</td>\n",
       "      <td>1200</td>\n",
       "    </tr>\n",
       "  </tbody>\n",
       "</table>\n",
       "</div>"
      ],
      "text/plain": [
       "   bathroom  living  score  square\n",
       "0      2.25    1670      8    1240\n",
       "1      2.50    3300     10    3300\n",
       "2      3.25    3190      9    3190\n",
       "3      2.50    2900      9    2900\n",
       "4      2.75    2040      7    1200"
      ]
     },
     "execution_count": 36,
     "metadata": {},
     "output_type": "execute_result"
    }
   ],
   "source": [
    "X_train.head()"
   ]
  },
  {
   "cell_type": "code",
   "execution_count": 37,
   "metadata": {
    "collapsed": false
   },
   "outputs": [
    {
     "data": {
      "text/html": [
       "<div>\n",
       "<table border=\"1\" class=\"dataframe\">\n",
       "  <thead>\n",
       "    <tr style=\"text-align: right;\">\n",
       "      <th></th>\n",
       "      <th>bathroom</th>\n",
       "      <th>living</th>\n",
       "      <th>score</th>\n",
       "      <th>square</th>\n",
       "    </tr>\n",
       "  </thead>\n",
       "  <tbody>\n",
       "    <tr>\n",
       "      <th>0</th>\n",
       "      <td>1.00</td>\n",
       "      <td>880</td>\n",
       "      <td>7</td>\n",
       "      <td>880</td>\n",
       "    </tr>\n",
       "    <tr>\n",
       "      <th>1</th>\n",
       "      <td>2.50</td>\n",
       "      <td>2880</td>\n",
       "      <td>7</td>\n",
       "      <td>2880</td>\n",
       "    </tr>\n",
       "    <tr>\n",
       "      <th>2</th>\n",
       "      <td>2.50</td>\n",
       "      <td>1980</td>\n",
       "      <td>7</td>\n",
       "      <td>1980</td>\n",
       "    </tr>\n",
       "    <tr>\n",
       "      <th>3</th>\n",
       "      <td>2.50</td>\n",
       "      <td>2830</td>\n",
       "      <td>9</td>\n",
       "      <td>2830</td>\n",
       "    </tr>\n",
       "    <tr>\n",
       "      <th>4</th>\n",
       "      <td>1.75</td>\n",
       "      <td>1900</td>\n",
       "      <td>8</td>\n",
       "      <td>1900</td>\n",
       "    </tr>\n",
       "  </tbody>\n",
       "</table>\n",
       "</div>"
      ],
      "text/plain": [
       "   bathroom  living  score  square\n",
       "0      1.00     880      7     880\n",
       "1      2.50    2880      7    2880\n",
       "2      2.50    1980      7    1980\n",
       "3      2.50    2830      9    2830\n",
       "4      1.75    1900      8    1900"
      ]
     },
     "execution_count": 37,
     "metadata": {},
     "output_type": "execute_result"
    }
   ],
   "source": [
    "X_test.head()"
   ]
  },
  {
   "cell_type": "code",
   "execution_count": 38,
   "metadata": {
    "collapsed": false
   },
   "outputs": [
    {
     "name": "stderr",
     "output_type": "stream",
     "text": [
      "//anaconda/lib/python3.5/site-packages/sklearn/utils/validation.py:429: DataConversionWarning: Data with input dtype int64 was converted to float64 by StandardScaler.\n",
      "  warnings.warn(msg, _DataConversionWarning)\n",
      "//anaconda/lib/python3.5/site-packages/sklearn/preprocessing/data.py:586: DeprecationWarning: Passing 1d arrays as data is deprecated in 0.17 and will raise ValueError in 0.19. Reshape your data either using X.reshape(-1, 1) if your data has a single feature or X.reshape(1, -1) if it contains a single sample.\n",
      "  warnings.warn(DEPRECATION_MSG_1D, DeprecationWarning)\n",
      "//anaconda/lib/python3.5/site-packages/sklearn/preprocessing/data.py:649: DeprecationWarning: Passing 1d arrays as data is deprecated in 0.17 and will raise ValueError in 0.19. Reshape your data either using X.reshape(-1, 1) if your data has a single feature or X.reshape(1, -1) if it contains a single sample.\n",
      "  warnings.warn(DEPRECATION_MSG_1D, DeprecationWarning)\n"
     ]
    },
    {
     "data": {
      "text/plain": [
       "array([ 0.00569866,  0.64929056,  0.5956579 , ...,  1.49400492,\n",
       "        1.58786207, -0.53629153])"
      ]
     },
     "execution_count": 38,
     "metadata": {},
     "output_type": "execute_result"
    }
   ],
   "source": [
    "# 没有数据缺失，不需要进行填充\n",
    "# 且都为数值型数据，不需要进行特征向量化\n",
    "# 进行特征缩放，使用数据标准化模块\n",
    "from sklearn.preprocessing import StandardScaler\n",
    "ss_X = StandardScaler()\n",
    "ss_Y = StandardScaler()\n",
    "\n",
    "X_train = ss_X.fit_transform(X_train)\n",
    "X_test = ss_X.transform(X_test)\n",
    "y_train = ss_Y.fit_transform(y_train)\n",
    "\n",
    "X_train\n",
    "y_train"
   ]
  },
  {
   "cell_type": "code",
   "execution_count": 43,
   "metadata": {
    "collapsed": false
   },
   "outputs": [
    {
     "data": {
      "text/plain": [
       "0.36774844290525416"
      ]
     },
     "execution_count": 43,
     "metadata": {},
     "output_type": "execute_result"
    }
   ],
   "source": [
    "from sklearn.ensemble import RandomForestRegressor\n",
    "rf = RandomForestRegressor()\n",
    "\n",
    "from sklearn.linear_model import LinearRegression\n",
    "lr = LinearRegression()\n",
    "\n",
    "from sklearn.svm import SVR\n",
    "svr = SVR(kernel='rbf')\n",
    "svl = SVR(kernel='linear')\n",
    "svp = SVR(kernel='poly')\n",
    "\n",
    "from sklearn.cross_validation import cross_val_score\n",
    "cross_val_score(svp, X_train, y_train, cv=5, scoring='r2').mean()"
   ]
  },
  {
   "cell_type": "code",
   "execution_count": 44,
   "metadata": {
    "collapsed": false
   },
   "outputs": [],
   "source": [
    "svp.fit(X_train, y_train)\n",
    "svp_y_predict = ss_Y.inverse_transform(svp.predict(X_test))\n",
    "svp_submission = pd.DataFrame({'price':svp_y_predict})\n",
    "svp_submission.to_csv('Datasets/HousePrice/svp_submission.csv', index=False)"
   ]
  },
  {
   "cell_type": "code",
   "execution_count": 45,
   "metadata": {
    "collapsed": false
   },
   "outputs": [
    {
     "data": {
      "text/plain": [
       "RandomForestRegressor(bootstrap=True, criterion='mse', max_depth=None,\n",
       "           max_features='auto', max_leaf_nodes=None,\n",
       "           min_impurity_split=1e-07, min_samples_leaf=1,\n",
       "           min_samples_split=2, min_weight_fraction_leaf=0.0,\n",
       "           n_estimators=10, n_jobs=1, oob_score=False, random_state=None,\n",
       "           verbose=0, warm_start=False)"
      ]
     },
     "execution_count": 45,
     "metadata": {},
     "output_type": "execute_result"
    }
   ],
   "source": [
    "rf.fit(X_train, y_train)"
   ]
  },
  {
   "cell_type": "code",
   "execution_count": 46,
   "metadata": {
    "collapsed": false
   },
   "outputs": [
    {
     "data": {
      "text/plain": [
       "array([ 0.08022175,  0.44782871,  0.31466824,  0.15728131])"
      ]
     },
     "execution_count": 46,
     "metadata": {},
     "output_type": "execute_result"
    }
   ],
   "source": [
    "rf.feature_importances_"
   ]
  },
  {
   "cell_type": "code",
   "execution_count": null,
   "metadata": {
    "collapsed": true
   },
   "outputs": [],
   "source": []
  }
 ],
 "metadata": {
  "anaconda-cloud": {},
  "kernelspec": {
   "display_name": "Python [conda root]",
   "language": "python",
   "name": "conda-root-py"
  },
  "language_info": {
   "codemirror_mode": {
    "name": "ipython",
    "version": 3
   },
   "file_extension": ".py",
   "mimetype": "text/x-python",
   "name": "python",
   "nbconvert_exporter": "python",
   "pygments_lexer": "ipython3",
   "version": "3.5.2"
  }
 },
 "nbformat": 4,
 "nbformat_minor": 1
}
