{
 "cells": [
  {
   "cell_type": "code",
   "execution_count": 1,
   "metadata": {
    "collapsed": false
   },
   "outputs": [
    {
     "data": {
      "text/html": [
       "<div>\n",
       "<table border=\"1\" class=\"dataframe\">\n",
       "  <thead>\n",
       "    <tr style=\"text-align: right;\">\n",
       "      <th></th>\n",
       "      <th>id</th>\n",
       "      <th>sentiment</th>\n",
       "      <th>review</th>\n",
       "    </tr>\n",
       "  </thead>\n",
       "  <tbody>\n",
       "    <tr>\n",
       "      <th>0</th>\n",
       "      <td>5814_8</td>\n",
       "      <td>1</td>\n",
       "      <td>With all this stuff going down at the moment w...</td>\n",
       "    </tr>\n",
       "    <tr>\n",
       "      <th>1</th>\n",
       "      <td>2381_9</td>\n",
       "      <td>1</td>\n",
       "      <td>\\The Classic War of the Worlds\\\" by Timothy Hi...</td>\n",
       "    </tr>\n",
       "    <tr>\n",
       "      <th>2</th>\n",
       "      <td>7759_3</td>\n",
       "      <td>0</td>\n",
       "      <td>The film starts with a manager (Nicholas Bell)...</td>\n",
       "    </tr>\n",
       "    <tr>\n",
       "      <th>3</th>\n",
       "      <td>3630_4</td>\n",
       "      <td>0</td>\n",
       "      <td>It must be assumed that those who praised this...</td>\n",
       "    </tr>\n",
       "    <tr>\n",
       "      <th>4</th>\n",
       "      <td>9495_8</td>\n",
       "      <td>1</td>\n",
       "      <td>Superbly trashy and wondrously unpretentious 8...</td>\n",
       "    </tr>\n",
       "  </tbody>\n",
       "</table>\n",
       "</div>"
      ],
      "text/plain": [
       "       id  sentiment                                             review\n",
       "0  5814_8          1  With all this stuff going down at the moment w...\n",
       "1  2381_9          1  \\The Classic War of the Worlds\\\" by Timothy Hi...\n",
       "2  7759_3          0  The film starts with a manager (Nicholas Bell)...\n",
       "3  3630_4          0  It must be assumed that those who praised this...\n",
       "4  9495_8          1  Superbly trashy and wondrously unpretentious 8..."
      ]
     },
     "execution_count": 1,
     "metadata": {},
     "output_type": "execute_result"
    }
   ],
   "source": [
    "import pandas as pd\n",
    "\n",
    "train = pd.read_csv('Datasets/IMDB/labeledTrainData.tsv', delimiter='\\t')\n",
    "test = pd.read_csv('Datasets/IMDB/testData.tsv', delimiter='\\t')\n",
    "\n",
    "train.head()"
   ]
  },
  {
   "cell_type": "code",
   "execution_count": 5,
   "metadata": {
    "collapsed": false
   },
   "outputs": [],
   "source": [
    "# BeautifulSoup用于处理原始文本\n",
    "from bs4 import BeautifulSoup\n",
    "import re\n",
    "# 从nltk.corpus导入停用词列表\n",
    "from nltk.corpus import stopwords\n",
    "\n",
    "def review_to_text(review, remove_stopwords):\n",
    "    # 去除html标记\n",
    "    raw_text = BeautifulSoup(review, 'lxml').get_text()\n",
    "    # 用空格代替所有的非字母字符\n",
    "    letters = re.sub('[^a-zA-Z]', ' ', raw_text)\n",
    "    words = letters.lower().split()\n",
    "    # 去除停止词\n",
    "    if remove_stopwords:\n",
    "        stop_words = set(stopwords.words('english'))\n",
    "        words = [w for w in words if w not in stop_words]\n",
    "    \n",
    "    return words"
   ]
  },
  {
   "cell_type": "code",
   "execution_count": 10,
   "metadata": {
    "collapsed": false
   },
   "outputs": [],
   "source": [
    "# 数据预处理\n",
    "X_train = []\n",
    "for review in train['review']:\n",
    "    X_train.append(' '.join(review_to_text(review, True)))\n",
    "X_test = []\n",
    "for review in test['review']:\n",
    "    X_test.append(' '.join(review_to_text(review, True)))\n",
    " \n",
    "y_train = train['sentiment']"
   ]
  },
  {
   "cell_type": "code",
   "execution_count": 16,
   "metadata": {
    "collapsed": false
   },
   "outputs": [],
   "source": [
    "# 导入文本特征抽取器 \n",
    "# 导入朴素贝叶斯模型\n",
    "# Pipeline用于搭建系统流程\n",
    "# GridSearchCV用于超参组合的Grid Search\n",
    "from sklearn.feature_extraction.text import CountVectorizer,TfidfVectorizer\n",
    "from sklearn.naive_bayes import MultinomialNB\n",
    "from sklearn.pipeline import Pipeline\n",
    "from sklearn.grid_search import GridSearchCV\n",
    "\n",
    "pip_count = Pipeline([('count_vec', CountVectorizer(analyzer='word')),\n",
    "                     ('mnb', MultinomialNB())])\n",
    "pip_tfodf = Pipeline([('tfidf_vec', TfidfVectorizer(analyzer='word')),\n",
    "                     ('mnb', MultinomialNB())])\n",
    "\n",
    "params_count = {'count_vec__binary':[True, False], 'count_vec__ngram_range':[(1, 1), (1, 2)],\n",
    "                'mnb__alpha':[0.1, 1.0, 10.0]}\n",
    "params_tfidf = {'count_vec__binary':[True, False], 'tfidf_vec__ngram_range':[(1, 1), (1, 2)],\n",
    "                'mnb__alpha':[0.1, 1.0, 10.0]}"
   ]
  },
  {
   "cell_type": "code",
   "execution_count": null,
   "metadata": {
    "collapsed": false
   },
   "outputs": [
    {
     "name": "stdout",
     "output_type": "stream",
     "text": [
      "Fitting 4 folds for each of 12 candidates, totalling 48 fits\n"
     ]
    }
   ],
   "source": [
    "gs_count = GridSearchCV(pip_count, params_count, cv=4, n_jobs=-1, verbose=1)\n",
    "gs_count.fit(X_train, y_train)\n",
    "print(gs_count.best_score_)\n",
    "print(gs_count.best_params_)"
   ]
  },
  {
   "cell_type": "code",
   "execution_count": null,
   "metadata": {
    "collapsed": true
   },
   "outputs": [],
   "source": []
  }
 ],
 "metadata": {
  "anaconda-cloud": {},
  "kernelspec": {
   "display_name": "Python [conda root]",
   "language": "python",
   "name": "conda-root-py"
  },
  "language_info": {
   "codemirror_mode": {
    "name": "ipython",
    "version": 3
   },
   "file_extension": ".py",
   "mimetype": "text/x-python",
   "name": "python",
   "nbconvert_exporter": "python",
   "pygments_lexer": "ipython3",
   "version": "3.5.2"
  }
 },
 "nbformat": 4,
 "nbformat_minor": 1
}
